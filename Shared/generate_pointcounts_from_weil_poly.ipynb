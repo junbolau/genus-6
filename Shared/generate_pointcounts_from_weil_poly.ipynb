{
 "cells": [
  {
   "cell_type": "code",
   "execution_count": 15,
   "id": "b6aa2ec7",
   "metadata": {},
   "outputs": [],
   "source": [
    "load(\"weil_poly_utils.sage\")"
   ]
  },
  {
   "cell_type": "code",
   "execution_count": 16,
   "id": "dc88da37",
   "metadata": {},
   "outputs": [],
   "source": [
    "load(\"weilpolys_p_rank.sage\")"
   ]
  },
  {
   "cell_type": "code",
   "execution_count": 17,
   "id": "9e393db6",
   "metadata": {},
   "outputs": [],
   "source": [
    "file = open('pointcounts_p_rank.sage','w')\n",
    "file.write('R.<T> = PolynomialRing(QQ)' + '\\n')\n",
    "file.write('data = [')\n",
    "for i in data:\n",
    "    tmp = [point_count_from_weil_poly(i[0],6),i[1]]\n",
    "    file.write(str(tmp) + ',' +'\\n')\n",
    "file.write(']')\n",
    "file.close()"
   ]
  },
  {
   "cell_type": "code",
   "execution_count": null,
   "id": "e1888884",
   "metadata": {},
   "outputs": [],
   "source": []
  }
 ],
 "metadata": {
  "kernelspec": {
   "display_name": "SageMath 10.2.beta1",
   "language": "sage",
   "name": "sagemath"
  },
  "language_info": {
   "codemirror_mode": {
    "name": "ipython",
    "version": 3
   },
   "file_extension": ".py",
   "mimetype": "text/x-python",
   "name": "python",
   "nbconvert_exporter": "python",
   "pygments_lexer": "ipython3",
   "version": "3.10.12"
  }
 },
 "nbformat": 4,
 "nbformat_minor": 5
}
