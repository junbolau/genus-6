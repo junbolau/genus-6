{
 "cells": [
  {
   "cell_type": "code",
   "execution_count": 1,
   "id": "985ae665",
   "metadata": {},
   "outputs": [],
   "source": [
    "import itertools"
   ]
  },
  {
   "cell_type": "code",
   "execution_count": 2,
   "id": "ab7bb2a8",
   "metadata": {},
   "outputs": [],
   "source": [
    "# produces a list of q(x) with \\sum n_P == 7 where Z(q(x)) = \\sum n_P *P\n",
    "# enumerate possibe tuples (n_P)_P\n",
    "lst = []\n",
    "for n_inf,n_0,n_1,n_2,n_3,n_4,n_5,n_6,n_7 in itertools.product(range(9),range(5),range(3),range(5),range(3),range(3),range(2),range(2),range(2)):\n",
    "    if n_inf >= n_0 and n_0 >= n_1 and (n_inf + n_0 + n_1 + 2*n_2 + 3*n_3 + 4*n_4 + 5*n_5 + 6*n_6 + 7*n_7 == 7):\n",
    "        lst.append((n_inf,n_0,n_1,n_2,n_3,n_4,n_5,n_6,n_7))"
   ]
  },
  {
   "cell_type": "code",
   "execution_count": 3,
   "id": "0eefe401",
   "metadata": {},
   "outputs": [],
   "source": [
    "# produce a list of irreducible polynomials\n",
    "R.<x> = PolynomialRing(GF(2))\n",
    "irred_pol = {'0':[1]}\n",
    "for d in range(8):\n",
    "    for pol in R.polynomials(of_degree = d):\n",
    "        if pol.is_irreducible() is True:\n",
    "            try:\n",
    "                irred_pol[str(d)].append(pol)\n",
    "            except:\n",
    "                irred_pol[str(d)] = [pol]"
   ]
  },
  {
   "cell_type": "code",
   "execution_count": 4,
   "id": "c8654f18",
   "metadata": {},
   "outputs": [],
   "source": [
    "def pol_orbits(pol,stablist):\n",
    "    pol = R(pol)\n",
    "    if len(stablist) == 0:\n",
    "        return {pol}\n",
    "    elif len(stablist) == 1 and stablist[0] == x+1:\n",
    "        return {pol,pol(stablist[0])}\n",
    "    elif len(stablist) == 1 and stablist[0] == 1/x:\n",
    "        return {pol,pol(stablist[0])*x^7}\n",
    "    elif len(stablist) == 2:\n",
    "        return {pol, pol(1/x)*x^7, pol(1/(x+1))*(x+1)^7, pol(x+1), pol(1 + 1/x)*x^7, pol(x/(x+1))*(x+1)^7}"
   ]
  },
  {
   "cell_type": "code",
   "execution_count": 5,
   "id": "23d656e3",
   "metadata": {},
   "outputs": [
    {
     "name": "stdout",
     "output_type": "stream",
     "text": [
      "51\n"
     ]
    }
   ],
   "source": [
    "# construct Q6 list from tuple (n_P)_P = (n_infty, n_0, ... , n_7)\n",
    "Q6 = []\n",
    "\n",
    "for ele in lst:\n",
    "    \n",
    "    # find factors of representatives\n",
    "    possible_polys = {}\n",
    "    for ind,count in enumerate(ele):\n",
    "        if ind == 1 and count != 0:\n",
    "            possible_polys['0'] = [x^count]\n",
    "        elif ind == 2 and count != 0:\n",
    "            possible_polys['1'] = [(x+1)^count]\n",
    "        elif ind > 2 and count != 0:\n",
    "            for pol_tup in itertools.product(irred_pol[str(ind-1)],repeat=int(count)):\n",
    "                try:\n",
    "                    possible_polys[str(ind-1)].append(prod(pol_tup))\n",
    "                except:\n",
    "                    possible_polys[str(ind-1)] = [prod(pol_tup)]\n",
    "    polys = list(set([prod(i) for i in list(itertools.product(*possible_polys.values()))]))\n",
    "    \n",
    "    # find stabilisers of tuple (x+1 or 1/x)\n",
    "    stab_list = []\n",
    "    if ele[1] == ele[2]:\n",
    "        stab_list.append(x+1)\n",
    "    if ele[0] == ele[1]:\n",
    "        stab_list.append(1/x)\n",
    "    final = polys.copy()\n",
    "    \n",
    "    # check if polys are in the same equivalence class\n",
    "    for pol in polys:\n",
    "        tmp = pol_orbits(pol,stab_list)\n",
    "        tmp2 = [orbs for orbs in tmp if orbs in polys]\n",
    "        if len(tmp) == 1:\n",
    "            continue\n",
    "        elif len(tmp) > 1 and len(tmp2) > 1:\n",
    "            ele = tmp2[0]\n",
    "            for pols in tmp:\n",
    "                try:\n",
    "                    final.remove(pols)\n",
    "                except:\n",
    "                    continue\n",
    "            final.append(ele)\n",
    "        \n",
    "    Q6 += final\n",
    "Q6 = list(set(Q6))\n",
    "print(len(Q6))"
   ]
  },
  {
   "cell_type": "code",
   "execution_count": 6,
   "id": "33d2f0d1",
   "metadata": {},
   "outputs": [],
   "source": [
    "Q6 = [R(i) for i in Q6]"
   ]
  },
  {
   "cell_type": "code",
   "execution_count": 7,
   "id": "f5bb6ec2",
   "metadata": {},
   "outputs": [],
   "source": [
    "del lst, stab_list, polys, final, irred_pol"
   ]
  },
  {
   "cell_type": "code",
   "execution_count": 8,
   "id": "c0765504",
   "metadata": {},
   "outputs": [],
   "source": [
    "# Define PGL(2,F_2) action\n",
    "G = GL(2,GF(2))\n",
    "Glst = list(G.list())\n",
    "def gaction(level,g,pol):\n",
    "    g = g.matrix()\n",
    "    return (g[1][0]*x + g[1][1])^(level)*pol((g[0][0]*x + g[0][1])/(g[1][0]*x + g[1][1]))"
   ]
  },
  {
   "cell_type": "code",
   "execution_count": 9,
   "id": "52c476ba",
   "metadata": {},
   "outputs": [],
   "source": [
    "# same algorithm as genus >= 4\n",
    "D14 = set(R.polynomials(max_degree=14))"
   ]
  },
  {
   "cell_type": "code",
   "execution_count": 10,
   "id": "8553eea2",
   "metadata": {},
   "outputs": [
    {
     "name": "stdout",
     "output_type": "stream",
     "text": [
      "x^7 + x^6 + x^5 + x^4 + x^3 + x^2 + 1\n",
      "x^7 + x^6 + x^5 + x^4 + x^3 + x + 1\n",
      "x^7 + x^6 + x^5 + x^4 + x^2 + x + 1\n",
      "1\n",
      "x^6 + x^5 + x^4 + x^3 + x^2 + x\n",
      "x^6 + x^5 + x^4 + x^3 + x^2 + x + 1\n",
      "x^4 + x^3\n",
      "x^6 + x^5 + x^4 + x^3 + x\n",
      "x^6 + x^5 + x^4 + x^2 + x\n",
      "x^5 + x^4 + x^3 + x^2 + x\n",
      "x^7 + x^6 + x^5 + x^3 + 1\n",
      "x^7 + x^6 + x^5 + x^2 + 1\n",
      "x^7 + x^6 + x^4 + x^3 + 1\n",
      "x^6 + x^5 + x^4 + x^3 + 1\n",
      "x^6 + x^5 + x^4 + x^2 + 1\n",
      "x^6 + x^5 + x^3 + x^2 + 1\n",
      "x^6 + x^5 + x^3 + x + 1\n",
      "x^5 + x^4 + x^3 + x^2 + 1\n",
      "x^5 + x^4 + x^3 + x + 1\n",
      "x^6 + x^3 + x^2 + x + 1\n",
      "x^5 + x^3 + x^2 + x\n",
      "x^6 + x^5 + x\n",
      "x^6 + x^4 + x\n",
      "x^5 + x^4 + x\n",
      "x^5 + x^3 + x\n",
      "x^5 + x^2 + x\n",
      "x^5 + x^4 + x^2\n",
      "x^4 + x^3 + x\n",
      "x^4 + x^2 + x\n",
      "x^4 + x^3 + x^2\n",
      "x^3 + x^2 + x\n",
      "x^6 + x^5 + 1\n",
      "x^6 + x^4 + 1\n",
      "x^6 + x^3 + 1\n",
      "x^6 + x\n",
      "x^6 + x + 1\n",
      "x^5 + x^2 + 1\n",
      "x^5 + x + 1\n",
      "x^5 + x^2\n",
      "x^4 + x + 1\n",
      "x^4 + x^3 + 1\n",
      "x^4 + x^2 + 1\n",
      "x^4 + x\n",
      "x^4 + x^2\n",
      "x^3 + x^2 + 1\n",
      "x^3 + x^2\n",
      "x^2 + x + 1\n",
      "x^2 + x\n",
      "x^3\n",
      "x^2\n",
      "x\n",
      "CPU times: user 29min 32s, sys: 194 ms, total: 29min 32s\n",
      "Wall time: 29min 32s\n"
     ]
    }
   ],
   "source": [
    "%%time\n",
    "\n",
    "from collections import defaultdict\n",
    "\n",
    "Vq = defaultdict(list)\n",
    "for q in Q6:\n",
    "    print(q)\n",
    "    Rq = R(q)\n",
    "    \n",
    "    #compute stabiliser G_q of q\n",
    "    Gq = []\n",
    "    if q == 1:\n",
    "        Gq = [Glst[0],Glst[3]] # 1 is fixed under [1,0,0,1] and [1,1,0,1]\n",
    "    else:\n",
    "        for g in Glst:\n",
    "            if gaction(7,g,Rq) == Rq:\n",
    "                Gq.append(g)\n",
    "        \n",
    "    #find representative p of isomorphism class [y^2 + qy = p]\n",
    "    D14copy = D14.copy()\n",
    "    while D14copy:\n",
    "        p = D14copy.pop()\n",
    "        m = max(2*Rq.degree(),p.degree())\n",
    "        if 13 <= m and m <= 14:\n",
    "            Spprime = set([p + r^2 + Rq*r for r in R.polynomials(max_degree=7)])\n",
    "            Sp = set()\n",
    "            for pol in Spprime:\n",
    "                Sp.update([gaction(14,g,pol) for g in Gq])\n",
    "            D14copy = D14copy - Sp\n",
    "            ele = Sp.pop()\n",
    "            try:\n",
    "                Vq[Rq].append(ele)\n",
    "            except KeyError:\n",
    "                Vq[Rq] = [ele]            \n",
    "        else:\n",
    "            continue"
   ]
  },
  {
   "cell_type": "markdown",
   "id": "1cb569e4",
   "metadata": {},
   "source": [
    "Check that the equation $y^2 + q(x)y = p(x)$ defines a nonsingular hyperelliptic curve:\n",
    "\n",
    "For\n",
    "- 0 $\\not = q $ with $1 \\leq deg(q) \\leq g + 1$\n",
    "- $p$ with $deg(p) \\leq 2g + 2$\n",
    "- $2g + 1 \\leq max(2deg(q),deg(p)) \\leq 2g + 2$\n",
    "\n",
    "Then the above equation is nonsingular iff\n",
    "- $gcd(q,p'^2 + q'^2p) = 1$\n",
    "- either $deg(q) = g+1$ or $a_{2g+1}^2 \\not = a_{2g+2}b_g^2$ where $p = \\sum_{i=0}^{2g+2} a_i x^i, q = \\sum_{i=0}^{g+1} b_ix^i$"
   ]
  },
  {
   "cell_type": "code",
   "execution_count": 11,
   "id": "5d4501e7",
   "metadata": {},
   "outputs": [
    {
     "name": "stdout",
     "output_type": "stream",
     "text": [
      "CPU times: user 2.21 s, sys: 2 ms, total: 2.21 s\n",
      "Wall time: 2.21 s\n"
     ]
    }
   ],
   "source": [
    "%%time\n",
    "\n",
    "#R1.<x> = PolynomialRing(QQ)\n",
    "qphypell = {}\n",
    "\n",
    "for q in Vq:\n",
    "    plst = []\n",
    "    for p in Vq[q]:\n",
    "        if gcd(q, p.derivative()^2 + (q.derivative()^2)*p) == 1 and (R(q).degree() == 7 or mod(R(p).monomial_coefficient(x^13),2)^2 != mod((R(p).monomial_coefficient(x^14)),2)*mod(R(q).monomial_coefficient(x^6),2)^2):\n",
    "            plst.append(R(p))\n",
    "    qphypell[q] = plst"
   ]
  },
  {
   "cell_type": "code",
   "execution_count": 12,
   "id": "8d473955-05ec-4cde-866f-354ae635b1e0",
   "metadata": {},
   "outputs": [],
   "source": [
    "del Vq, Q6, Gq, D14, D14copy"
   ]
  },
  {
   "cell_type": "code",
   "execution_count": 13,
   "id": "2fd4ae66-b189-4d35-acdb-218209efde7f",
   "metadata": {},
   "outputs": [],
   "source": [
    "load(\"../../Shared/weil_poly_utils.sage\")"
   ]
  },
  {
   "cell_type": "code",
   "execution_count": 14,
   "id": "06857017-f097-4e5a-bbf3-da9d922faf6c",
   "metadata": {},
   "outputs": [],
   "source": [
    "d = defaultdict(list)\n",
    "R1.<x,y> = PolynomialRing(GF(2))\n",
    "for q in qphypell:\n",
    "    for p in qphypell[q]:\n",
    "        d[tuple(HyperellipticCurve(p,q).count_points(6))].append(y^2 + q*y + p)"
   ]
  },
  {
   "cell_type": "code",
   "execution_count": 15,
   "id": "048a49ad-5381-42c2-949b-af40e5612ee4",
   "metadata": {},
   "outputs": [
    {
     "data": {
      "text/plain": [
       "4134"
      ]
     },
     "execution_count": 15,
     "metadata": {},
     "output_type": "execute_result"
    }
   ],
   "source": [
    "sum(len(d[k]) for k in d)"
   ]
  },
  {
   "cell_type": "code",
   "execution_count": 16,
   "id": "eea364d5-e1ea-43d9-be6d-1268e647beb8",
   "metadata": {},
   "outputs": [],
   "source": [
    "lst = list(d.keys())\n",
    "for j in range(25):\n",
    "    f = open('data/sorted_' + str(j) + '.txt','w+')\n",
    "    for key in lst[134*j:134*j + 134]:\n",
    "        for eqn in d[key]:\n",
    "            f.write('[' + str(list(key)) + ',[' + str(eqn) + ']]\\n')\n",
    "    f.close()"
   ]
  },
  {
   "cell_type": "code",
   "execution_count": null,
   "id": "43e3c7a9-7d64-4ee2-ac46-d89b2a720136",
   "metadata": {},
   "outputs": [],
   "source": []
  }
 ],
 "metadata": {
  "kernelspec": {
   "display_name": "SageMath 10.4",
   "language": "sage",
   "name": "sagemath"
  },
  "language_info": {
   "codemirror_mode": {
    "name": "ipython",
    "version": 3
   },
   "file_extension": ".py",
   "mimetype": "text/x-python",
   "name": "python",
   "nbconvert_exporter": "python",
   "pygments_lexer": "ipython3",
   "version": "3.12.3"
  }
 },
 "nbformat": 4,
 "nbformat_minor": 5
}
