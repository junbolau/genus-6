{
 "cells": [
  {
   "cell_type": "markdown",
   "id": "6fe34cf5",
   "metadata": {},
   "source": [
    "This notebook contains calculations for the list of genus 6 hyperelliptic curves over $\\mathbf{F}_2$ and among them, which are supersingular curves. The approach follows X. Xarles's \"A census of all genus 4 curves over the field with 2 elements\"."
   ]
  },
  {
   "cell_type": "markdown",
   "id": "8c1f1716",
   "metadata": {},
   "source": [
    "$Q_6(F_2)$ list"
   ]
  },
  {
   "cell_type": "code",
   "execution_count": 1,
   "id": "7d18bd6c",
   "metadata": {},
   "outputs": [],
   "source": [
    "F = GF(2)\n",
    "R1.<x> = PolynomialRing(F)\n",
    "Q6list = [\n",
    "          1,x,\n",
    "          x^2, x*(x+1),x^2 + x + 1,\n",
    "          x^3,(x^2)*(x+1),x*(x^2 + x + 1), x^3 + x + 1,\n",
    "          (x^3)*(x+1), (x^2)*(x+1)^2, (x^2) *(x^2 + x + 1), (x^2 + x + 1)*x*(x+1),(x^2 + x + 1)^2 ,\n",
    "          (x^3 + x + 1)*x, (x^3 + x^2 + 1)*x, x^4 + x + 1, x^4 + x^3 + 1,\n",
    "          (x^2)*(x+1)*(x^2 + x + 1),((x^2 + x + 1)^2)*x,(x^3 + x + 1)*x^2, (x^3 + x^2 + 1)*x^2,\n",
    "          (x^3 + x + 1)*x*(x+1), (x^3 + x + 1)*(x^2 + x + 1), (x^4 + x + 1)*x,(x^4 + x^3 + 1)*x,\n",
    "          (x^4 + x^3 + x^2 + x + 1)*x,x^5 + x^2 + 1,x^5 + x^3 + 1,x^5 + x^3 + x^2 + x + 1,\n",
    "          ((x^2 + x + 1)^2)*x*(x+1),(x^2 + x + 1)^3,(x^3 + x + 1)*(x^2 + x + 1)*x,\n",
    "          (x^3 + x^2 + 1)*(x^2 + x + 1)*x,(x^3 + x + 1)^2,(x^3 + x + 1)*(x^3 + x^2 + 1),\n",
    "          (x^4 + x + 1)*x*(x+1), (x^4 + x + 1)*(x^2 + x + 1),(x^4 + x^3 +1)*(x^2 + x + 1),\n",
    "          (x^5 + x^2 + 1)*x,(x^5 + x^4 + x^2 + x + 1)*x, (x^5 + x^4 + x^3 + x^2 + 1)*x,\n",
    "          (x^6 + x + 1), (x^6 + x^3 + 1), (x^6 + x^5 + 1), (x^6 + x^5 + x^3 + x^2 + 1),\n",
    "          (x^6 + x^5 + x^4 + x + 1),(x^3 + x + 1)*((x^2 + x + 1)^2),(x^4 + x + 1)*(x^3 + x + 1),\n",
    "          (x^5 + x^2 + 1)*(x^2 + x + 1),(x^7 + x + 1), (x^7 + x^3 + 1), \n",
    "          (x^7 + x^4 + x^3 + x^2 + 1)\n",
    "         ]"
   ]
  },
  {
   "cell_type": "markdown",
   "id": "6dfb1aab",
   "metadata": {},
   "source": [
    "Action of $GL_2(\\mathbf{F}_2)$ on $\\mathbf{F}_2[x]$"
   ]
  },
  {
   "cell_type": "code",
   "execution_count": 2,
   "id": "f3a908e5",
   "metadata": {},
   "outputs": [],
   "source": [
    "G = GL(2,F)\n",
    "Glst = list(G.list())\n",
    "def gaction(level,g,pol):\n",
    "    g = g.matrix()\n",
    "    return (g[1][0]*x + g[1][1])^(level)*pol((g[0][0]*x + g[0][1])/(g[1][0]*x + g[1][1]))"
   ]
  },
  {
   "cell_type": "markdown",
   "id": "2f8b2dbe",
   "metadata": {},
   "source": [
    "Algorithm of Xarles at the end of section 1"
   ]
  },
  {
   "cell_type": "code",
   "execution_count": 3,
   "id": "af4ae6d7",
   "metadata": {},
   "outputs": [],
   "source": [
    "D14 = set(R1.polynomials(max_degree=14))"
   ]
  },
  {
   "cell_type": "code",
   "execution_count": 4,
   "id": "f09d07ef",
   "metadata": {},
   "outputs": [
    {
     "name": "stdout",
     "output_type": "stream",
     "text": [
      "CPU times: user 25min 14s, sys: 474 ms, total: 25min 15s\n",
      "Wall time: 25min 18s\n"
     ]
    }
   ],
   "source": [
    "%%time\n",
    "\n",
    "from collections import defaultdict\n",
    "\n",
    "Vq = defaultdict(list)\n",
    "for q in Q6list:\n",
    "    \n",
    "    R1q = R1(q)\n",
    "    \n",
    "    #compute stabiliser G_q of q\n",
    "    Gq = []\n",
    "    if q == 1:\n",
    "        Gq = [Glst[0],Glst[3]] # 1 is fixed under [1,0,0,1] and [1,1,0,1]\n",
    "    else:\n",
    "        for g in Glst:\n",
    "            if gaction(7,g,R1q) == R1q:\n",
    "                Gq.append(g)\n",
    "        \n",
    "    #find representative p of isomorphism class [y^2 + qy = p]\n",
    "    D14copy = D14.copy()\n",
    "    while D14copy:\n",
    "        p = D14copy.pop()\n",
    "        m = max(2*R1q.degree(),p.degree())\n",
    "        if 13 <= m and m <= 14:\n",
    "            Spprime = set([p + r^2 + R1q*r for r in R1.polynomials(max_degree=7)])\n",
    "\n",
    "            Sp = set()\n",
    "            for pol in Spprime:\n",
    "                Sp.update([gaction(14,g,pol) for g in Gq])\n",
    "            D14copy = D14copy - Sp\n",
    "            ele = Sp.pop()\n",
    "            try:\n",
    "                Vq[R1q].append(ele)\n",
    "            except KeyError:\n",
    "                Vq[R1q] = [ele]            \n",
    "        else:\n",
    "            continue"
   ]
  },
  {
   "cell_type": "raw",
   "id": "841176b1",
   "metadata": {},
   "source": [
    "with open(\"Vqnew.txt\",\"w\") as f:\n",
    "    f.write(str(Vq))"
   ]
  },
  {
   "cell_type": "markdown",
   "id": "88a54218",
   "metadata": {},
   "source": [
    "Check that the equation $y^2 + q(x)y = p(x)$ defines a nonsingular hyperelliptic curve:\n",
    "\n",
    "For\n",
    "- 0 $\\not = q $ with $1 \\leq deg(q) \\leq g + 1 = 7$\n",
    "- $p$ with $deg(p) \\leq 2g + 2$\n",
    "- $13 = 2g + 1 \\leq max(2deg(q),deg(p)) \\leq 2g + 2 = 14$\n",
    "\n",
    "Then the above equation is nonsingular iff\n",
    "- $gcd(q,p'^2 + q'^2p) = 1$\n",
    "- either $deg(q) = g+1$ or $a_{2g+1}^2 \\not = a_{2g+2}b_g^2$ where $p = \\sum_{i=0}^{2g+2} a_i x^i, q = \\sum_{i=0}^{g+1} b_ix^i$"
   ]
  },
  {
   "cell_type": "code",
   "execution_count": 5,
   "id": "91a60d29",
   "metadata": {},
   "outputs": [
    {
     "name": "stdout",
     "output_type": "stream",
     "text": [
      "CPU times: user 2.65 s, sys: 4 ms, total: 2.65 s\n",
      "Wall time: 2.65 s\n"
     ]
    }
   ],
   "source": [
    "%%time\n",
    "\n",
    "R.<x> = PolynomialRing(QQ)\n",
    "qphypell = {}\n",
    "\n",
    "for q in Vq:\n",
    "    plst = []\n",
    "    for p in Vq[q]:\n",
    "        if gcd(q, p.derivative()^2 + (q.derivative()^2)*p) == 1 and (R(q).degree() == 7 or mod(R(p).monomial_coefficient(x^13),2)^2 != mod((R(p).monomial_coefficient(x^14)),2)*mod(R(q).monomial_coefficient(x^6),2)^2):\n",
    "            plst.append(p)\n",
    "\n",
    "    qphypell[q] = plst"
   ]
  },
  {
   "cell_type": "code",
   "execution_count": 6,
   "id": "3d5cee94",
   "metadata": {},
   "outputs": [
    {
     "data": {
      "text/plain": [
       "4232"
      ]
     },
     "execution_count": 6,
     "metadata": {},
     "output_type": "execute_result"
    }
   ],
   "source": [
    "sum(len(qphypell[key]) for key in qphypell)"
   ]
  },
  {
   "cell_type": "code",
   "execution_count": 7,
   "id": "c56cbfcb",
   "metadata": {},
   "outputs": [],
   "source": [
    "f = open(\"data/unfiltered.txt\",\"w+\")\n",
    "for q in qphypell:\n",
    "    for p in qphypell[q]:\n",
    "        to_write = \"y^2 + (\" + str(q) + \")*y + \" + str(p) + \"\\n\"\n",
    "        f.write(to_write)\n",
    "f.close()"
   ]
  },
  {
   "cell_type": "code",
   "execution_count": null,
   "id": "22902ab7",
   "metadata": {},
   "outputs": [],
   "source": []
  }
 ],
 "metadata": {
  "kernelspec": {
   "display_name": "SageMath 10.2.beta1",
   "language": "sage",
   "name": "sagemath"
  },
  "language_info": {
   "codemirror_mode": {
    "name": "ipython",
    "version": 3
   },
   "file_extension": ".py",
   "mimetype": "text/x-python",
   "name": "python",
   "nbconvert_exporter": "python",
   "pygments_lexer": "ipython3",
   "version": "3.10.12"
  }
 },
 "nbformat": 4,
 "nbformat_minor": 5
}
