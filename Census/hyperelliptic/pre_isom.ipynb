{
 "cells": [
  {
   "cell_type": "code",
   "execution_count": 23,
   "id": "4916b034",
   "metadata": {},
   "outputs": [],
   "source": [
    "from collections import defaultdict"
   ]
  },
  {
   "cell_type": "code",
   "execution_count": 24,
   "id": "fcdb261f",
   "metadata": {},
   "outputs": [],
   "source": [
    "f = open(\"pc_hyperelliptic.txt\",'r').readlines()"
   ]
  },
  {
   "cell_type": "code",
   "execution_count": 30,
   "id": "db623bea",
   "metadata": {},
   "outputs": [],
   "source": [
    "R.<x,y> = PolynomialRing(GF(2))\n",
    "d = defaultdict(list)\n",
    "for line in f:\n",
    "    lst = sage_eval(line,{'x':x,'y':y})\n",
    "    d[tuple(lst[0])].append([lst[1]])"
   ]
  },
  {
   "cell_type": "code",
   "execution_count": 36,
   "id": "d6065a18",
   "metadata": {},
   "outputs": [],
   "source": [
    "lst = list(d.keys())\n",
    "for j in range(25):\n",
    "    f = open('./sorted/' + str(j) + '.txt','w+')\n",
    "    for key in lst[134*j:134*j + 134]:\n",
    "        for gens in d[key]:\n",
    "            tmp = [list(key),list(gens)]\n",
    "            f.write(str(tmp))\n",
    "            f.write('\\n')\n",
    "    f.close()"
   ]
  },
  {
   "cell_type": "code",
   "execution_count": null,
   "id": "ee78613f",
   "metadata": {},
   "outputs": [],
   "source": []
  }
 ],
 "metadata": {
  "kernelspec": {
   "display_name": "SageMath 10.2.beta1",
   "language": "sage",
   "name": "sagemath"
  },
  "language_info": {
   "codemirror_mode": {
    "name": "ipython",
    "version": 3
   },
   "file_extension": ".py",
   "mimetype": "text/x-python",
   "name": "python",
   "nbconvert_exporter": "python",
   "pygments_lexer": "ipython3",
   "version": "3.10.12"
  }
 },
 "nbformat": 4,
 "nbformat_minor": 5
}
