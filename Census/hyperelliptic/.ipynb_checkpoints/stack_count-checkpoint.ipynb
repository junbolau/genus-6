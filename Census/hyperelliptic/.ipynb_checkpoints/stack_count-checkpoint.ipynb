{
 "cells": [
  {
   "cell_type": "code",
   "execution_count": 6,
   "id": "3a2e1893",
   "metadata": {},
   "outputs": [],
   "source": [
    "#stacky count\n",
    "x = var('x')\n",
    "y = var('y')\n",
    "\n",
    "ct = 0\n",
    "for i in range(25):\n",
    "    filename = 'sorted/new_isom_' + str(i) + '.txt'\n",
    "    f = open(filename,'r').readlines()\n",
    "    for i in range(2,len(f),3):\n",
    "        line = f[i]\n",
    "        line = line.replace(']','')\n",
    "        line = line.replace(',','')\n",
    "        ct += 1/(sage_eval(line,locals={'x':x,'y':y}))"
   ]
  },
  {
   "cell_type": "code",
   "execution_count": 7,
   "id": "bc9b830d",
   "metadata": {},
   "outputs": [
    {
     "data": {
      "text/plain": [
       "2048"
      ]
     },
     "execution_count": 7,
     "metadata": {},
     "output_type": "execute_result"
    }
   ],
   "source": [
    "ct"
   ]
  },
  {
   "cell_type": "code",
   "execution_count": 14,
   "id": "461fc276",
   "metadata": {},
   "outputs": [],
   "source": [
    "#non-stacky count\n",
    "x = var('x')\n",
    "y = var('y')\n",
    "\n",
    "ct = 0\n",
    "for i in range(25):\n",
    "    filename = 'sorted/new_isom_' + str(i) + '.txt'\n",
    "    f = open(filename,'r').readlines()\n",
    "    for i in range(0,len(f),3):\n",
    "        ct += 1"
   ]
  },
  {
   "cell_type": "code",
   "execution_count": 15,
   "id": "33a75d62",
   "metadata": {},
   "outputs": [
    {
     "data": {
      "text/plain": [
       "4134"
      ]
     },
     "execution_count": 15,
     "metadata": {},
     "output_type": "execute_result"
    }
   ],
   "source": [
    "ct"
   ]
  },
  {
   "cell_type": "code",
   "execution_count": null,
   "id": "ab940962",
   "metadata": {},
   "outputs": [],
   "source": []
  }
 ],
 "metadata": {
  "kernelspec": {
   "display_name": "SageMath 10.2.beta1",
   "language": "sage",
   "name": "sagemath"
  },
  "language_info": {
   "codemirror_mode": {
    "name": "ipython",
    "version": 3
   },
   "file_extension": ".py",
   "mimetype": "text/x-python",
   "name": "python",
   "nbconvert_exporter": "python",
   "pygments_lexer": "ipython3",
   "version": "3.10.12"
  }
 },
 "nbformat": 4,
 "nbformat_minor": 5
}
