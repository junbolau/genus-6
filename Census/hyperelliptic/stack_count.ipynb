{
 "cells": [
  {
   "cell_type": "code",
   "execution_count": 1,
   "id": "3a2e1893",
   "metadata": {},
   "outputs": [],
   "source": [
    "#stacky count\n",
    "x = var('x')\n",
    "y = var('y')\n",
    "\n",
    "ct = 0\n",
    "for i in range(25):\n",
    "    filename = 'sorted/isom_' + str(i) + '.txt'\n",
    "    f = open(filename,'r').readlines()\n",
    "    for line in f:\n",
    "        ct += 1/(sage_eval(line,locals={'x':x,'y':y}))[1]"
   ]
  },
  {
   "cell_type": "code",
   "execution_count": 2,
   "id": "bc9b830d",
   "metadata": {},
   "outputs": [
    {
     "data": {
      "text/plain": [
       "2048"
      ]
     },
     "execution_count": 2,
     "metadata": {},
     "output_type": "execute_result"
    }
   ],
   "source": [
    "ct"
   ]
  },
  {
   "cell_type": "code",
   "execution_count": 5,
   "id": "461fc276",
   "metadata": {},
   "outputs": [],
   "source": [
    "#non-stacky count\n",
    "x = var('x')\n",
    "y = var('y')\n",
    "\n",
    "ct = 0\n",
    "for i in range(25):\n",
    "    filename = 'sorted/isom_' + str(i) + '.txt'\n",
    "    f = open(filename,'r').readlines()\n",
    "    for line in f:\n",
    "        ct += 1"
   ]
  },
  {
   "cell_type": "code",
   "execution_count": 6,
   "id": "33a75d62",
   "metadata": {},
   "outputs": [
    {
     "data": {
      "text/plain": [
       "4134"
      ]
     },
     "execution_count": 6,
     "metadata": {},
     "output_type": "execute_result"
    }
   ],
   "source": [
    "ct"
   ]
  },
  {
   "cell_type": "code",
   "execution_count": 3,
   "id": "b633495b",
   "metadata": {},
   "outputs": [],
   "source": [
    "x = var('x')\n",
    "y = var('y')\n",
    "\n",
    "ct0 = 0\n",
    "ct1 = 0\n",
    "f = open('hyperelliptic.txt','r').readlines()\n",
    "for line in f:\n",
    "    ct0 += 1/(sage_eval(line,locals={'x':x,'y':y}))[1]\n",
    "    ct1 += 1"
   ]
  },
  {
   "cell_type": "code",
   "execution_count": null,
   "id": "7ec3c69d",
   "metadata": {},
   "outputs": [],
   "source": []
  }
 ],
 "metadata": {
  "kernelspec": {
   "display_name": "SageMath 10.2.beta1",
   "language": "sage",
   "name": "sagemath"
  },
  "language_info": {
   "codemirror_mode": {
    "name": "ipython",
    "version": 3
   },
   "file_extension": ".py",
   "mimetype": "text/x-python",
   "name": "python",
   "nbconvert_exporter": "python",
   "pygments_lexer": "ipython3",
   "version": "3.10.12"
  }
 },
 "nbformat": 4,
 "nbformat_minor": 5
}
