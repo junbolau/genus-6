{
 "cells": [
  {
   "cell_type": "raw",
   "id": "f193efc1",
   "metadata": {},
   "source": [
    "#sort curves into bins by pointcounts"
   ]
  },
  {
   "cell_type": "code",
   "execution_count": 1,
   "id": "a95d62d3",
   "metadata": {},
   "outputs": [],
   "source": [
    "from collections import defaultdict"
   ]
  },
  {
   "cell_type": "code",
   "execution_count": 3,
   "id": "1df0b0a3",
   "metadata": {},
   "outputs": [],
   "source": [
    "curves = defaultdict(set)\n",
    "R.<x0,x1,x2> = PolynomialRing(GF(2))\n",
    "for i in range(25):\n",
    "    f = open('data/genus_' + str(i) + \".txt\",\"r\").readlines()\n",
    "    for l in f:\n",
    "        lst = sage_eval(l,{'x0':x0,'x1':x1,'x2':x2})\n",
    "        curves[tuple(lst[0])].add(lst[1][0])"
   ]
  },
  {
   "cell_type": "code",
   "execution_count": 4,
   "id": "d13f5a78",
   "metadata": {},
   "outputs": [
    {
     "data": {
      "text/plain": [
       "3682"
      ]
     },
     "execution_count": 4,
     "metadata": {},
     "output_type": "execute_result"
    }
   ],
   "source": [
    "len(list(curves.keys()))"
   ]
  },
  {
   "cell_type": "code",
   "execution_count": 5,
   "id": "3882b50b",
   "metadata": {},
   "outputs": [
    {
     "data": {
      "text/plain": [
       "3700"
      ]
     },
     "execution_count": 5,
     "metadata": {},
     "output_type": "execute_result"
    }
   ],
   "source": [
    "148*25"
   ]
  },
  {
   "cell_type": "code",
   "execution_count": 6,
   "id": "5731984d",
   "metadata": {},
   "outputs": [],
   "source": [
    "k_lst = list(curves.keys())\n",
    "for i in range(25):\n",
    "    to_write = []\n",
    "    f = open(\"data/sorted/\" + str(i) + \".txt\",\"w+\")\n",
    "    for k in k_lst[148*i:148*i + 148]:\n",
    "        for eqn in curves[k]:\n",
    "            f.write(str([list(k),[eqn]]))\n",
    "            f.write('\\n')\n",
    "    f.close()"
   ]
  },
  {
   "cell_type": "raw",
   "id": "520d7fcf",
   "metadata": {},
   "source": [
    "#(nonstacky,stacky)-counts"
   ]
  },
  {
   "cell_type": "code",
   "execution_count": 1,
   "id": "9cbf4a13",
   "metadata": {},
   "outputs": [
    {
     "name": "stdout",
     "output_type": "stream",
     "text": [
      "4204 4096.00000000000\n"
     ]
    }
   ],
   "source": [
    "R.<x0,x1,x2> = PolynomialRing(GF(2))\n",
    "stacky_ct = 0\n",
    "nonstacky_ct = 0\n",
    "for i in range(25):\n",
    "    f = open(\"data/sorted/isom_\" + str(i) + \".txt\",\"r\").readlines()\n",
    "    for l in f:\n",
    "        line = sage_eval(l,{'x0':x0,'x1':x1,'x2':x2})\n",
    "        stacky_ct += 1.0/line[1]\n",
    "        nonstacky_ct +=1\n",
    "print(nonstacky_ct,stacky_ct)"
   ]
  },
  {
   "cell_type": "raw",
   "id": "3006b4d3",
   "metadata": {},
   "source": [
    "FF-version of #(nonstacky,stacky)-counts"
   ]
  },
  {
   "cell_type": "code",
   "execution_count": 2,
   "id": "2e89e5c1",
   "metadata": {},
   "outputs": [
    {
     "name": "stdout",
     "output_type": "stream",
     "text": [
      "4204 4096.00000000000\n"
     ]
    }
   ],
   "source": [
    "R.<x0,x1,x2> = PolynomialRing(GF(2))\n",
    "stacky_ct = 0\n",
    "nonstacky_ct = 0\n",
    "for i in range(25):\n",
    "    f = open(\"data/sorted/ff_isom_\" + str(i) + \".txt\",\"r\").readlines()\n",
    "    for l in f:\n",
    "        line = sage_eval(l,{'x0':x0,'x1':x1,'x2':x2})\n",
    "        stacky_ct += 1.0/line[1]\n",
    "        nonstacky_ct +=1\n",
    "print(nonstacky_ct,stacky_ct)"
   ]
  },
  {
   "cell_type": "raw",
   "id": "f9e5782a",
   "metadata": {},
   "source": [
    "Combine files"
   ]
  },
  {
   "cell_type": "code",
   "execution_count": 2,
   "id": "0c9a0eaf",
   "metadata": {},
   "outputs": [],
   "source": [
    "R.<x0,x1,x2> = PolynomialRing(GF(2))\n",
    "d = []\n",
    "for i in range(25):\n",
    "    f = open(\"data/sorted/ff_isom_\" + str(i) + \".txt\",\"r\").readlines()\n",
    "    for l in f:\n",
    "        line = sage_eval(l,{'x0':x0,'x1':x1,'x2':x2})\n",
    "        d.append(line)"
   ]
  },
  {
   "cell_type": "code",
   "execution_count": 18,
   "id": "0fc68eb5",
   "metadata": {},
   "outputs": [],
   "source": [
    "with open(\"data/sorted/final.txt\", \"w\") as f:\n",
    "    for line in d:\n",
    "        f.write(f\"{line}\\n\")"
   ]
  },
  {
   "cell_type": "code",
   "execution_count": null,
   "id": "b55651b5",
   "metadata": {},
   "outputs": [],
   "source": []
  }
 ],
 "metadata": {
  "kernelspec": {
   "display_name": "SageMath 10.2.beta1",
   "language": "sage",
   "name": "sagemath"
  },
  "language_info": {
   "codemirror_mode": {
    "name": "ipython",
    "version": 3
   },
   "file_extension": ".py",
   "mimetype": "text/x-python",
   "name": "python",
   "nbconvert_exporter": "python",
   "pygments_lexer": "ipython3",
   "version": "3.10.12"
  }
 },
 "nbformat": 4,
 "nbformat_minor": 5
}
