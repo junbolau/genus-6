{
 "cells": [
  {
   "cell_type": "code",
   "execution_count": 8,
   "id": "621b26d6",
   "metadata": {},
   "outputs": [],
   "source": [
    "R.<x0,x1,x2> = PolynomialRing(GF(2))\n",
    "C_set = set()\n",
    "FF_set = set()\n",
    "for i in range(25):\n",
    "    C_file = open(\"data/sorted/isom_\" + str(i) + \".txt\",\"r\").readlines()\n",
    "    FF_file = open(\"data/sorted/ff_isom_\" + str(i) + \".txt\",\"r\").readlines()\n",
    "    for j in range(len(C_file)):\n",
    "        C_line = sage_eval(C_file[j],{'x0':x0,'x1':x1,'x2':x2})\n",
    "        FF_line = sage_eval(FF_file[j],{'x0':x0,'x1':x1,'x2':x2})\n",
    "        C_set.add(tuple(C_line))\n",
    "        FF_set.add(tuple(FF_line))"
   ]
  },
  {
   "cell_type": "code",
   "execution_count": 9,
   "id": "3a00f04b",
   "metadata": {},
   "outputs": [],
   "source": [
    "for ff in FF_set:\n",
    "    if ff not in C_set:\n",
    "        print(ff)"
   ]
  }
 ],
 "metadata": {
  "kernelspec": {
   "display_name": "SageMath 10.2.beta1",
   "language": "sage",
   "name": "sagemath"
  },
  "language_info": {
   "codemirror_mode": {
    "name": "ipython",
    "version": 3
   },
   "file_extension": ".py",
   "mimetype": "text/x-python",
   "name": "python",
   "nbconvert_exporter": "python",
   "pygments_lexer": "ipython3",
   "version": "3.10.12"
  }
 },
 "nbformat": 4,
 "nbformat_minor": 5
}
