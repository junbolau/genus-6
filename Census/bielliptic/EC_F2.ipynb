{
 "cells": [
  {
   "cell_type": "code",
   "execution_count": 2,
   "id": "31864d23",
   "metadata": {},
   "outputs": [],
   "source": [
    "from itertools import product\n",
    "\n",
    "def discriminant(a1, a2, a3, a4, a6):\n",
    "    b2 = a1**2 + 4*a4\n",
    "    b4 = 2*a4 + a1*a3\n",
    "    b6 = a3**2 + 4*a6\n",
    "    b8 = a1**2*a6 + 4*a2*a6 - a1*a3*a4 + a2*a3**2 - a4**2\n",
    "    delta = -b2**2*b8 - 8*b4**3 - 27*b6**2 + 9*b2*b4*b6\n",
    "    return delta\n",
    "\n",
    "p = 2\n",
    "r = range(p)\n",
    "lst = []\n",
    "for (a1, a2, a3, a4, a6) in product(r,r,r,r,r):\n",
    "    if discriminant(a1, a2, a3, a4, a6)%p != 0:\n",
    "        lst.append((a1, a2, a3, a4, a6))"
   ]
  },
  {
   "cell_type": "code",
   "execution_count": 3,
   "id": "9d7a4629",
   "metadata": {},
   "outputs": [
    {
     "data": {
      "text/plain": [
       "[(0, 0, 1, 0, 0),\n",
       " (0, 0, 1, 0, 1),\n",
       " (0, 0, 1, 1, 0),\n",
       " (0, 0, 1, 1, 1),\n",
       " (0, 1, 1, 0, 0),\n",
       " (0, 1, 1, 0, 1),\n",
       " (0, 1, 1, 1, 0),\n",
       " (0, 1, 1, 1, 1),\n",
       " (1, 0, 0, 0, 1),\n",
       " (1, 0, 0, 1, 0),\n",
       " (1, 0, 1, 0, 1),\n",
       " (1, 0, 1, 1, 1),\n",
       " (1, 1, 0, 0, 1),\n",
       " (1, 1, 0, 1, 0),\n",
       " (1, 1, 1, 0, 0),\n",
       " (1, 1, 1, 1, 0)]"
      ]
     },
     "execution_count": 3,
     "metadata": {},
     "output_type": "execute_result"
    }
   ],
   "source": [
    "lst"
   ]
  },
  {
   "cell_type": "code",
   "execution_count": 6,
   "id": "482af212",
   "metadata": {},
   "outputs": [],
   "source": [
    "isom_lst = []\n",
    "for eq in lst:\n",
    "    E = EllipticCurve(GF(2),eq)\n",
    "    if isom_lst == []:\n",
    "        isom_lst.append(E)\n",
    "    else:\n",
    "        if all([E.is_isomorphic(Ei) is False for Ei in isom_lst]):\n",
    "            isom_lst.append(E)"
   ]
  },
  {
   "cell_type": "code",
   "execution_count": 7,
   "id": "2beb918f",
   "metadata": {},
   "outputs": [
    {
     "data": {
      "text/plain": [
       "[Elliptic Curve defined by y^2 + y = x^3 over Finite Field of size 2,\n",
       " Elliptic Curve defined by y^2 + y = x^3 + x over Finite Field of size 2,\n",
       " Elliptic Curve defined by y^2 + y = x^3 + x + 1 over Finite Field of size 2,\n",
       " Elliptic Curve defined by y^2 + x*y = x^3 + 1 over Finite Field of size 2,\n",
       " Elliptic Curve defined by y^2 + x*y + y = x^3 + 1 over Finite Field of size 2]"
      ]
     },
     "execution_count": 7,
     "metadata": {},
     "output_type": "execute_result"
    }
   ],
   "source": [
    "isom_lst"
   ]
  },
  {
   "cell_type": "code",
   "execution_count": null,
   "id": "2fac98a7",
   "metadata": {},
   "outputs": [],
   "source": []
  }
 ],
 "metadata": {
  "kernelspec": {
   "display_name": "SageMath 10.2.beta1",
   "language": "sage",
   "name": "sagemath"
  },
  "language_info": {
   "codemirror_mode": {
    "name": "ipython",
    "version": 3
   },
   "file_extension": ".py",
   "mimetype": "text/x-python",
   "name": "python",
   "nbconvert_exporter": "python",
   "pygments_lexer": "ipython3",
   "version": "3.10.12"
  }
 },
 "nbformat": 4,
 "nbformat_minor": 5
}
