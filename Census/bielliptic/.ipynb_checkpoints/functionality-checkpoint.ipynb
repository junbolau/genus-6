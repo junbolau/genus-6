{
 "cells": [
  {
   "cell_type": "raw",
   "id": "5db5688b",
   "metadata": {},
   "source": [
    "#Create txt files corresponding to the 5 elliptic curves at the base"
   ]
  },
  {
   "cell_type": "code",
   "execution_count": null,
   "id": "4528a18d",
   "metadata": {},
   "outputs": [],
   "source": [
    "for i in range(1,6):\n",
    "    f = open(str(i) + \".txt\",\"w+\")"
   ]
  },
  {
   "cell_type": "code",
   "execution_count": null,
   "id": "a965adc1",
   "metadata": {},
   "outputs": [],
   "source": []
  },
  {
   "cell_type": "raw",
   "id": "f193efc1",
   "metadata": {},
   "source": [
    "#sort curves into bins by pointcounts"
   ]
  },
  {
   "cell_type": "code",
   "execution_count": 2,
   "id": "a95d62d3",
   "metadata": {},
   "outputs": [],
   "source": [
    "from collections import defaultdict"
   ]
  },
  {
   "cell_type": "code",
   "execution_count": 11,
   "id": "1df0b0a3",
   "metadata": {},
   "outputs": [],
   "source": [
    "R.<x,y> = PolynomialRing(GF(2))\n",
    "curves = defaultdict(set)\n",
    "\n",
    "for i in range(1,6):\n",
    "    f = open('data/' + str(i) + \".txt\",\"r\").readlines()\n",
    "    for l in f:\n",
    "        lst = sage_eval(l,{'x':x,'y':y})\n",
    "        curves[tuple(lst[0])].add(lst[1][0])\n",
    "\n",
    "k_lst = list(curves.keys())\n",
    "jump = ceil(len(k_lst)/10)\n",
    "for j in range(10):\n",
    "    g = open('data/sorted' + str(i) + '_' + str(j) + '.txt','w+')\n",
    "    for k in k_lst[jump*j:jump*j + jump]:\n",
    "        for eqn in curves[k]:\n",
    "            g.write(str([list(k),[eqn]]))\n",
    "            g.write('\\n')\n",
    "    g.close()    "
   ]
  },
  {
   "cell_type": "code",
   "execution_count": null,
   "id": "3882b50b",
   "metadata": {},
   "outputs": [],
   "source": []
  },
  {
   "cell_type": "raw",
   "id": "520d7fcf",
   "metadata": {},
   "source": [
    "#(nonstacky,stacky)-counts"
   ]
  },
  {
   "cell_type": "code",
   "execution_count": 1,
   "id": "40469605",
   "metadata": {},
   "outputs": [
    {
     "name": "stdout",
     "output_type": "stream",
     "text": [
      "1530 744\n"
     ]
    }
   ],
   "source": [
    "R.<x,y> = PolynomialRing(GF(2))\n",
    "stacky_ct = 0\n",
    "nonstacky_ct = 0\n",
    "for i in range(10):\n",
    "    f = open(\"data/isom_sorted\" + str(i) + \".txt\",\"r\").readlines()\n",
    "    for l in f:\n",
    "        stacky_ct += 1/sage_eval(l,{'x':x,'y':y})[1]\n",
    "        nonstacky_ct +=1\n",
    "print(nonstacky_ct,stacky_ct)"
   ]
  },
  {
   "cell_type": "code",
   "execution_count": null,
   "id": "6a6dad8e",
   "metadata": {},
   "outputs": [],
   "source": []
  }
 ],
 "metadata": {
  "kernelspec": {
   "display_name": "SageMath 10.2.beta1",
   "language": "sage",
   "name": "sagemath"
  },
  "language_info": {
   "codemirror_mode": {
    "name": "ipython",
    "version": 3
   },
   "file_extension": ".py",
   "mimetype": "text/x-python",
   "name": "python",
   "nbconvert_exporter": "python",
   "pygments_lexer": "ipython3",
   "version": "3.10.12"
  }
 },
 "nbformat": 4,
 "nbformat_minor": 5
}
