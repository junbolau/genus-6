{
 "cells": [
  {
   "cell_type": "markdown",
   "id": "7b22f4ed",
   "metadata": {},
   "source": [
    "Find supersingular hyperelliptic curves using point count from lmfdb data."
   ]
  },
  {
   "cell_type": "code",
   "execution_count": 1,
   "id": "d214d5b5",
   "metadata": {},
   "outputs": [],
   "source": [
    "load(\"qphypell.sage\")"
   ]
  },
  {
   "cell_type": "code",
   "execution_count": 2,
   "id": "2e345a81",
   "metadata": {},
   "outputs": [],
   "source": [
    "load(\"ss_pointcount.sage\")\n",
    "point_count = list(pointcount.values())"
   ]
  },
  {
   "cell_type": "code",
   "execution_count": 3,
   "id": "cb775927",
   "metadata": {},
   "outputs": [],
   "source": [
    "load(\"weil_polynomials_ss_g6.sage\")"
   ]
  },
  {
   "cell_type": "code",
   "execution_count": 4,
   "id": "f0c11855",
   "metadata": {},
   "outputs": [],
   "source": [
    "from collections import defaultdict"
   ]
  },
  {
   "cell_type": "code",
   "execution_count": 5,
   "id": "6038c4c8",
   "metadata": {},
   "outputs": [
    {
     "name": "stdout",
     "output_type": "stream",
     "text": [
      "CPU times: user 3min 25s, sys: 725 ms, total: 3min 26s\n",
      "Wall time: 3min 27s\n"
     ]
    }
   ],
   "source": [
    "%%time\n",
    "\n",
    "#compare up to F_2^6-points\n",
    "pc6 = [lst[:6] for lst in point_count]\n",
    "d1 = defaultdict(list)\n",
    "\n",
    "for q in d:\n",
    "    for p in d[q]:\n",
    "        H = HyperellipticCurve(p,q)\n",
    "        ptct = H.count_points_exhaustive(6)\n",
    "        if ptct in pc6:\n",
    "            d1[q].append(p)"
   ]
  },
  {
   "cell_type": "code",
   "execution_count": 6,
   "id": "cf770d43",
   "metadata": {},
   "outputs": [
    {
     "name": "stdout",
     "output_type": "stream",
     "text": [
      "8\n"
     ]
    }
   ],
   "source": [
    "# only ss hypell are of the form y^2 + y = p(x)\n",
    "\n",
    "print(len(d1[1]))\n",
    "assert sum(len(d1[key]) for key in d1.keys()) == len(d1[1])"
   ]
  },
  {
   "cell_type": "code",
   "execution_count": 7,
   "id": "68e28479",
   "metadata": {},
   "outputs": [
    {
     "data": {
      "text/plain": [
       "True"
      ]
     },
     "execution_count": 7,
     "metadata": {},
     "output_type": "execute_result"
    }
   ],
   "source": [
    "all([(HyperellipticCurve(p,1).zeta_function().numerator() in data) for p in d1[1]])"
   ]
  },
  {
   "cell_type": "code",
   "execution_count": 8,
   "id": "36dcc8cd",
   "metadata": {},
   "outputs": [
    {
     "data": {
      "text/plain": [
       "[x^14 + x^13 + x^7 + x^6 + x^4 + x^3 + x^2 + x,\n",
       " x^14 + x^13 + x^12 + x^8 + x^7 + x^6 + x^3 + x^2 + 1,\n",
       " x^14 + x^13 + x^12 + x^8 + x^7 + x^6 + x^4 + x + 1,\n",
       " x^14 + x^13 + x^12 + x^10 + x^8 + x^7 + x^6 + x^5 + x^4,\n",
       " x^14 + x^13 + x^10 + x^9 + x^7 + x^4 + x^3 + x^2 + x,\n",
       " x^13 + x^12 + x^10 + x^8 + x^6 + x^5 + x^4 + x^3 + x^2,\n",
       " x^14 + x^13 + x^9 + x^8 + x^7 + x^5 + x^4 + x^2 + x,\n",
       " x^14 + x^13 + x^12 + x^9 + x^8 + x^7 + x^5 + x^4 + x^3 + x]"
      ]
     },
     "execution_count": 8,
     "metadata": {},
     "output_type": "execute_result"
    }
   ],
   "source": [
    "d1[1]"
   ]
  },
  {
   "cell_type": "code",
   "execution_count": null,
   "id": "4d3f8337",
   "metadata": {},
   "outputs": [],
   "source": []
  },
  {
   "cell_type": "raw",
   "id": "246c7851",
   "metadata": {},
   "source": [
    "#try zeta function instead of point count\n",
    "#same results\n",
    "\n",
    "pc6 = [lst[:6] for lst in point_count]\n",
    "d1 = []\n",
    "\n",
    "for q in d:\n",
    "    for p in d[q]:\n",
    "        H = HyperellipticCurve(p,q)\n",
    "        pol = H.zeta_function().numerator()\n",
    "        if pol in data:\n",
    "            d1.append([q,p])"
   ]
  }
 ],
 "metadata": {
  "kernelspec": {
   "display_name": "SageMath 9.5",
   "language": "sage",
   "name": "sagemath"
  },
  "language_info": {
   "codemirror_mode": {
    "name": "ipython",
    "version": 3
   },
   "file_extension": ".py",
   "mimetype": "text/x-python",
   "name": "python",
   "nbconvert_exporter": "python",
   "pygments_lexer": "ipython3",
   "version": "3.10.2"
  }
 },
 "nbformat": 4,
 "nbformat_minor": 5
}
