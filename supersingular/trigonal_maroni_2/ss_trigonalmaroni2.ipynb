{
 "cells": [
  {
   "cell_type": "code",
   "execution_count": 1,
   "metadata": {},
   "outputs": [],
   "source": [
    "load(\"../Shared/preamble.sage\")"
   ]
  },
  {
   "cell_type": "code",
   "execution_count": 2,
   "metadata": {},
   "outputs": [],
   "source": [
    "F = GF(2)\n",
    "P.<x0,x1,y0,y1,y2> = F[]\n",
    "gen1 = x0^2*y0 + x0*x1*y1 + x1^2*y2"
   ]
  },
  {
   "cell_type": "code",
   "execution_count": 3,
   "metadata": {},
   "outputs": [
    {
     "data": {
      "text/plain": [
       "9"
      ]
     },
     "execution_count": 3,
     "metadata": {},
     "output_type": "execute_result"
    }
   ],
   "source": [
    "S1 = [vector(t) for t in ProjectiveSpace(F, 1)]\n",
    "S2 = [vector(t) for t in ProjectiveSpace(F, 2)]\n",
    "for v in S1 + S2:\n",
    "    v.set_immutable()\n",
    "S0 = list(itertools.product(S1, S2))\n",
    "S = [x for x in S0 if gen1(*x[0], *x[1]) == 0]\n",
    "len(S)"
   ]
  },
  {
   "cell_type": "code",
   "execution_count": 4,
   "metadata": {},
   "outputs": [
    {
     "data": {
      "text/plain": [
       "25"
      ]
     },
     "execution_count": 4,
     "metadata": {},
     "output_type": "execute_result"
    }
   ],
   "source": [
    "F4 = GF(4)\n",
    "S14 = [vector(t) for t in ProjectiveSpace(F4, 1)]\n",
    "S24 = [vector(t) for t in ProjectiveSpace(F4, 2)]\n",
    "for v in S14 + S24:\n",
    "    v.set_immutable()\n",
    "S04 = list(itertools.product(S14, S24))\n",
    "S4 = [x for x in S04 if gen1(*x[0], *x[1]) == 0]\n",
    "len(S4)"
   ]
  },
  {
   "cell_type": "code",
   "execution_count": 5,
   "metadata": {},
   "outputs": [
    {
     "data": {
      "text/plain": [
       "81"
      ]
     },
     "execution_count": 5,
     "metadata": {},
     "output_type": "execute_result"
    }
   ],
   "source": [
    "F8 = GF(8)\n",
    "S18 = [vector(t) for t in ProjectiveSpace(F8, 1)]\n",
    "S28 = [vector(t) for t in ProjectiveSpace(F8, 2)]\n",
    "for v in S18 + S28:\n",
    "    v.set_immutable()\n",
    "S08 = list(itertools.product(S18, S28))\n",
    "S8 = [x for x in S08 if gen1(*x[0], *x[1]) == 0]\n",
    "len(S8)"
   ]
  },
  {
   "cell_type": "code",
   "execution_count": 6,
   "metadata": {},
   "outputs": [
    {
     "data": {
      "text/plain": [
       "289"
      ]
     },
     "execution_count": 6,
     "metadata": {},
     "output_type": "execute_result"
    }
   ],
   "source": [
    "F16 = GF(16)\n",
    "S116 = [vector(t) for t in ProjectiveSpace(F16, 1)]\n",
    "S216 = [vector(t) for t in ProjectiveSpace(F16, 2)]\n",
    "for v in S116 + S216:\n",
    "    v.set_immutable()\n",
    "S016 = list(itertools.product(S116, S216))\n",
    "S16 = [x for x in S016 if gen1(*x[0], *x[1]) == 0]\n",
    "len(S16)"
   ]
  },
  {
   "cell_type": "code",
   "execution_count": 7,
   "metadata": {},
   "outputs": [
    {
     "data": {
      "text/plain": [
       "6"
      ]
     },
     "execution_count": 7,
     "metadata": {},
     "output_type": "execute_result"
    }
   ],
   "source": [
    "l0 = [Matrix(F,[[1,1,0,0,0],[0,1,0,0,0],[0,0,1,0,0],[0,0,0,1,0],[0,0,1,1,1]]),\n",
    "      Matrix(F,[[0,1,0,0,0],[1,0,0,0,0],[0,0,0,0,1],[0,0,0,1,0],[0,0,1,0,0]])]\n",
    "G0 = GL(5,F).subgroup(l0)\n",
    "G0.order()"
   ]
  },
  {
   "cell_type": "code",
   "execution_count": 8,
   "metadata": {},
   "outputs": [],
   "source": [
    "def apply_group_elem(g, x):\n",
    "    g1 = g.submatrix(nrows=2,ncols=2)\n",
    "    g2 = g.submatrix(row=2,col=2)\n",
    "    v1 = g1*x[0]\n",
    "    v2 = g2*x[1]\n",
    "    v1.set_immutable()\n",
    "    v2.set_immutable()\n",
    "    return (v1, v2)"
   ]
  },
  {
   "cell_type": "code",
   "execution_count": 9,
   "metadata": {},
   "outputs": [],
   "source": [
    "assert all(apply_group_elem(g, x) in S for g in l0[:1] for x in S)"
   ]
  },
  {
   "cell_type": "code",
   "execution_count": 10,
   "metadata": {},
   "outputs": [],
   "source": [
    "def stabilizer(x):\n",
    "    G1 = vec_stab(Matrix(F, x[0]), transpose=True)\n",
    "    G2 = vec_stab(Matrix(F, x[1]), transpose=True)\n",
    "    l0 = [block_matrix(2,2,[g.matrix(),0,0,identity_matrix(3)], subdivide=False) for g in G1.gens()] + \\\n",
    "        [block_matrix(2,2,[identity_matrix(2),0,0,g.matrix()], subdivide=False) for g in G2.gens()]\n",
    "    return GL(5, F).subgroup(l0)"
   ]
  },
  {
   "cell_type": "code",
   "execution_count": 11,
   "metadata": {},
   "outputs": [],
   "source": [
    "def optimized_rep(g):\n",
    "    return g.matrix()"
   ]
  },
  {
   "cell_type": "code",
   "execution_count": 12,
   "metadata": {},
   "outputs": [],
   "source": [
    "methods = {'apply_group_elem': apply_group_elem,\n",
    "           'stabilizer': stabilizer,\n",
    "           'optimized_rep': optimized_rep}\n",
    "tree = build_orbit_tree(G0, S, 9, methods, verbose=False)"
   ]
  },
  {
   "cell_type": "code",
   "execution_count": 13,
   "metadata": {},
   "outputs": [
    {
     "data": {
      "text/plain": [
       "[2, 17, 24, 8, 1]"
      ]
     },
     "execution_count": 13,
     "metadata": {},
     "output_type": "execute_result"
    }
   ],
   "source": [
    "[len(green_nodes(tree, s)) for s in [1,3,5,7,9]]"
   ]
  },
  {
   "cell_type": "code",
   "execution_count": 14,
   "metadata": {},
   "outputs": [
    {
     "data": {
      "text/plain": [
       "20"
      ]
     },
     "execution_count": 14,
     "metadata": {},
     "output_type": "execute_result"
    }
   ],
   "source": [
    "monos13 = [prod(x) for x in itertools.product([prod(y) for y in itertools.combinations_with_replacement([x0,x1],1)],\n",
    "                                              [prod(y) for y in itertools.combinations_with_replacement([y0,y1,y2],3)])]\n",
    "len(monos13)"
   ]
  },
  {
   "cell_type": "code",
   "execution_count": 15,
   "metadata": {},
   "outputs": [],
   "source": [
    "coords13 = {x: vector(F, (mu(*x[0], *x[1]) for mu in monos13)) for x in S}"
   ]
  },
  {
   "cell_type": "code",
   "execution_count": 16,
   "metadata": {},
   "outputs": [],
   "source": [
    "load(\"ss_pointcount.sage\")"
   ]
  },
  {
   "cell_type": "code",
   "execution_count": 17,
   "metadata": {},
   "outputs": [],
   "source": [
    "targets6 = [tuple(i[1][:6]) for i in pointcount.items()]"
   ]
  },
  {
   "cell_type": "code",
   "execution_count": 18,
   "metadata": {},
   "outputs": [],
   "source": [
    "perp = Matrix([coords13[x] for x in S])\n",
    "perp.set_immutable()\n",
    "tmp2 = set(t[:2] for t in targets6)\n",
    "tmp3 = set(t[:3] for t in targets6)\n",
    "tmp4 = set(t[:4] for t in targets6)\n",
    "curves = defaultdict(list)\n",
    "for s in [1,3,5,7,9]:\n",
    "    for vecs in green_nodes(tree, s):\n",
    "        target = vector(F, (0 if x in vecs else 1 for x in S))\n",
    "        for v2 in solve_right_iterator(perp, target):\n",
    "            gen2 = sum(v2[i]*monos13[i] for i in range(20))\n",
    "            s2 = sum(1 for x in S4 if gen2(*x[0], *x[1]) == 0)\n",
    "            if (s,s2) in tmp2:\n",
    "                s3 = sum(1 for x in S8 if gen2(*x[0], *x[1]) == 0)\n",
    "                if (s,s2,s3) in tmp3:\n",
    "                    s4 = sum(1 for x in S16 if gen2(*x[0], *x[1]) == 0)\n",
    "                    if (s,s2,s3,s4) in tmp4:\n",
    "                        curves[(s,s2,s3,s4)].append((gen1, gen2))"
   ]
  },
  {
   "cell_type": "code",
   "execution_count": 19,
   "metadata": {},
   "outputs": [
    {
     "data": {
      "text/plain": [
       "[((1, 5, 13, 25), 128),\n",
       " ((1, 9, 13, 17), 12),\n",
       " ((1, 1, 13, 33), 8),\n",
       " ((1, 5, 13, 41), 4),\n",
       " ((3, 5, 9, 17), 519),\n",
       " ((3, 9, 9, 25), 345),\n",
       " ((3, 9, 9, 9), 138),\n",
       " ((3, 5, 9, 33), 96),\n",
       " ((3, 5, 21, 17), 84),\n",
       " ((3, 9, 21, 25), 81),\n",
       " ((3, 5, 33, 17), 74),\n",
       " ((3, 9, 9, 41), 12),\n",
       " ((3, 13, 9, 33), 3),\n",
       " ((3, 13, 9, 17), 84),\n",
       " ((5, 9, 17, 33), 570),\n",
       " ((5, 9, 17, 17), 280),\n",
       " ((5, 5, 17, 9), 122),\n",
       " ((5, 5, 17, 25), 24),\n",
       " ((5, 9, 5, 17), 130),\n",
       " ((5, 9, 5, 33), 85),\n",
       " ((5, 13, 5, 25), 56),\n",
       " ((5, 5, 5, 9), 24),\n",
       " ((5, 5, 5, 25), 39),\n",
       " ((7, 13, 13, 17), 20),\n",
       " ((7, 9, 13, 25), 148)]"
      ]
     },
     "execution_count": 19,
     "metadata": {},
     "output_type": "execute_result"
    }
   ],
   "source": [
    "[(s, len(curves[s])) for s in curves]"
   ]
  },
  {
   "cell_type": "code",
   "execution_count": 20,
   "metadata": {},
   "outputs": [],
   "source": [
    "I1 = P.ideal([x0,x1])\n",
    "I2 = P.ideal([y0,y1,y2])\n",
    "CR = magma.CoxRing(P, [I1,I2], [[1,1,0,0,0],[0,0,1,1,1]], [])\n",
    "proj = CR.ToricVariety()"
   ]
  },
  {
   "cell_type": "code",
   "execution_count": 21,
   "metadata": {},
   "outputs": [
    {
     "name": "stdout",
     "output_type": "stream",
     "text": [
      "Number of curves found: 0\n",
      "Number of isomorphism classes found: 0\n",
      "Total time: 22 minutes\n"
     ]
    }
   ],
   "source": [
    "fin = closeout(curves, X=proj, genus=6)"
   ]
  },
  {
   "cell_type": "code",
   "execution_count": 22,
   "metadata": {},
   "outputs": [],
   "source": [
    "with open(\"ss_trigonalmaroni2.txt\", \"w\") as f:\n",
    "    f.write(str(fin))"
   ]
  },
  {
   "cell_type": "code",
   "execution_count": null,
   "metadata": {},
   "outputs": [],
   "source": []
  }
 ],
 "metadata": {
  "kernelspec": {
   "display_name": "SageMath 9.5",
   "language": "sage",
   "name": "sagemath"
  },
  "language_info": {
   "codemirror_mode": {
    "name": "ipython",
    "version": 3
   },
   "file_extension": ".py",
   "mimetype": "text/x-python",
   "name": "python",
   "nbconvert_exporter": "python",
   "pygments_lexer": "ipython3",
   "version": "3.10.2"
  }
 },
 "nbformat": 4,
 "nbformat_minor": 4
}
