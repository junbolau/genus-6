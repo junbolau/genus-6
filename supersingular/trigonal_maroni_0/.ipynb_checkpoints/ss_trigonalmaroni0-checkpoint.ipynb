{
 "cells": [
  {
   "cell_type": "code",
   "execution_count": 23,
   "metadata": {},
   "outputs": [],
   "source": [
    "load(\"../Shared/preamble.sage\")"
   ]
  },
  {
   "cell_type": "code",
   "execution_count": 2,
   "metadata": {},
   "outputs": [],
   "source": [
    "F = GF(2)\n",
    "P.<x0,x1,y0,y1> = PolynomialRing(F, 4)"
   ]
  },
  {
   "cell_type": "code",
   "execution_count": 3,
   "metadata": {},
   "outputs": [
    {
     "data": {
      "text/plain": [
       "9"
      ]
     },
     "execution_count": 3,
     "metadata": {},
     "output_type": "execute_result"
    }
   ],
   "source": [
    "S1 = [vector(t) for t in ProjectiveSpace(F, 1)]\n",
    "for v in S1:\n",
    "    v.set_immutable()\n",
    "S = list(itertools.product(S1, S1))\n",
    "len(S)"
   ]
  },
  {
   "cell_type": "code",
   "execution_count": 4,
   "metadata": {},
   "outputs": [
    {
     "data": {
      "text/plain": [
       "36"
      ]
     },
     "execution_count": 4,
     "metadata": {},
     "output_type": "execute_result"
    }
   ],
   "source": [
    "l0 = [block_matrix(2,2,[g.matrix(),0,0,identity_matrix(2)], subdivide=False) for g in GL(2,F).gens()] +\\\n",
    "       [block_matrix(2,2,[identity_matrix(2),0,0,g.matrix()], subdivide=False) for g in GL(2,F).gens()]\n",
    "G0 = GL(4,F).subgroup(l0)\n",
    "G0.order()"
   ]
  },
  {
   "cell_type": "code",
   "execution_count": 5,
   "metadata": {},
   "outputs": [],
   "source": [
    "def apply_group_elem(g, x):\n",
    "    g1 = g.submatrix(nrows=2,ncols=2)\n",
    "    g2 = g.submatrix(row=2,col=2)\n",
    "    v1 = g1*x[0]\n",
    "    v2 = g2*x[1]\n",
    "    v1.set_immutable()\n",
    "    v2.set_immutable()\n",
    "    return (v1, v2)"
   ]
  },
  {
   "cell_type": "code",
   "execution_count": 6,
   "metadata": {},
   "outputs": [],
   "source": [
    "def stabilizer(x):\n",
    "    G1 = vec_stab(Matrix(F, x[0]), transpose=True)\n",
    "    G2 = vec_stab(Matrix(F, x[1]), transpose=True)\n",
    "    l0 = [block_matrix(2,2,[g.matrix(),0,0,identity_matrix(2)], subdivide=False) for g in G1.gens()] + \\\n",
    "        [block_matrix(2,2,[identity_matrix(2),0,0,g.matrix()], subdivide=False) for g in G2.gens()]\n",
    "    return GL(4, F).subgroup(l0)"
   ]
  },
  {
   "cell_type": "code",
   "execution_count": 7,
   "metadata": {},
   "outputs": [],
   "source": [
    "def optimized_rep(g):\n",
    "    return g.matrix()"
   ]
  },
  {
   "cell_type": "code",
   "execution_count": 8,
   "metadata": {},
   "outputs": [],
   "source": [
    "methods = {'apply_group_elem': apply_group_elem,\n",
    "           'stabilizer': stabilizer,\n",
    "           'optimized_rep': optimized_rep}\n",
    "tree = build_orbit_tree(G0, S, 9, methods, verbose=False)"
   ]
  },
  {
   "cell_type": "code",
   "execution_count": 9,
   "metadata": {},
   "outputs": [
    {
     "data": {
      "text/plain": [
       "20"
      ]
     },
     "execution_count": 9,
     "metadata": {},
     "output_type": "execute_result"
    }
   ],
   "source": [
    "monos3 = [prod(x) for x in itertools.combinations_with_replacement([x0,x1],3)]\n",
    "monos4 = [prod(x) for x in itertools.combinations_with_replacement([y0,y1],4)]\n",
    "monos34 = [prod(x) for x in itertools.product(monos3, monos4)]\n",
    "len(monos34)"
   ]
  },
  {
   "cell_type": "code",
   "execution_count": 10,
   "metadata": {},
   "outputs": [],
   "source": [
    "coords34 = {x: vector(F, (mu(*x[0], *x[1]) for mu in monos34)) for x in S}"
   ]
  },
  {
   "cell_type": "code",
   "execution_count": 11,
   "metadata": {},
   "outputs": [],
   "source": [
    "def vec_to_gen(vec):\n",
    "    return sum(vec[i]*monos34[i] for i in range(20))"
   ]
  },
  {
   "cell_type": "code",
   "execution_count": 12,
   "metadata": {},
   "outputs": [],
   "source": [
    "curves = defaultdict(list)\n",
    "perp = Matrix([coords34[x] for x in S])\n",
    "for i in [1,3,5,7,9]:\n",
    "    for vecs in green_nodes(tree, i):\n",
    "        target = vector(F, (0 if x in vecs else 1 for x in S))\n",
    "        for w in solve_right_iterator(perp, target):\n",
    "            curves[(i,)].append(vec_to_gen(w))"
   ]
  },
  {
   "cell_type": "code",
   "execution_count": 13,
   "metadata": {},
   "outputs": [
    {
     "data": {
      "text/plain": [
       "[((1,), 2048), ((3,), 12288), ((5,), 14336), ((7,), 6144), ((9,), 2048)]"
      ]
     },
     "execution_count": 13,
     "metadata": {},
     "output_type": "execute_result"
    }
   ],
   "source": [
    "[(s, len(curves[s])) for s in curves]"
   ]
  },
  {
   "cell_type": "code",
   "execution_count": 14,
   "metadata": {},
   "outputs": [],
   "source": [
    "def count_by_ideal(gen, n):\n",
    "    J = P.ideal([gen] + [y^(2^n) + y for y in P.gens()])\n",
    "    return (J.vector_space_dimension() - 2^(2*n+1) + 1) // (2^n-1)^2"
   ]
  },
  {
   "cell_type": "code",
   "execution_count": null,
   "metadata": {},
   "outputs": [],
   "source": []
  },
  {
   "cell_type": "code",
   "execution_count": 15,
   "metadata": {},
   "outputs": [],
   "source": [
    "load(\"ss_pointcount.sage\")"
   ]
  },
  {
   "cell_type": "code",
   "execution_count": 16,
   "metadata": {},
   "outputs": [],
   "source": [
    "targets6 = [tuple(i[1][:6]) for i in pointcount.items()]"
   ]
  },
  {
   "cell_type": "code",
   "execution_count": null,
   "metadata": {},
   "outputs": [],
   "source": []
  },
  {
   "cell_type": "code",
   "execution_count": 17,
   "metadata": {},
   "outputs": [
    {
     "name": "stdout",
     "output_type": "stream",
     "text": [
      "[((1, 1), 240), ((1, 5), 660), ((1, 9), 120), ((1, 13), 4), ((3, 5), 2835), ((3, 9), 2835), ((3, 13), 465), ((3, 17), 9), ((5, 9), 4410), ((5, 13), 1350), ((5, 17), 86), ((5, 5), 1320), ((7, 13), 1305), ((7, 9), 1605), ((9, 9), 60)]\n",
      "[((1, 1, 13), 42), ((1, 5, 13), 214), ((1, 5, 25), 2), ((1, 9, 13), 36), ((1, 13, 13), 2), ((3, 5, 9), 528), ((3, 5, 21), 222), ((3, 5, 33), 54), ((3, 9, 9), 658), ((3, 9, 21), 172), ((3, 13, 9), 155), ((3, 13, 21), 15), ((3, 17, 9), 6), ((5, 9, 17), 860), ((5, 9, 5), 243), ((5, 13, 5), 68), ((5, 17, 5), 4), ((5, 5, 5), 84), ((5, 5, 17), 177), ((7, 13, 13), 163), ((7, 9, 25), 72), ((7, 9, 13), 307), ((9, 9, 9), 24)]\n",
      "[((1, 1, 13, 33), 4), ((1, 5, 13, 25), 64), ((1, 5, 13, 41), 2), ((1, 9, 13, 17), 6), ((3, 5, 9, 17), 149), ((3, 5, 9, 33), 20), ((3, 5, 21, 17), 22), ((3, 5, 33, 17), 54), ((3, 9, 9, 9), 45), ((3, 9, 9, 25), 108), ((3, 9, 9, 41), 8), ((3, 9, 21, 25), 33), ((3, 13, 9, 17), 28), ((3, 13, 9, 33), 1), ((5, 9, 17, 33), 160), ((5, 9, 17, 17), 76), ((5, 9, 5, 33), 26), ((5, 9, 5, 17), 34), ((5, 13, 5, 25), 15), ((5, 5, 5, 9), 7), ((5, 5, 5, 25), 11), ((5, 5, 17, 9), 30), ((5, 5, 17, 25), 6), ((7, 13, 13, 17), 7), ((7, 9, 13, 25), 54)]\n"
     ]
    }
   ],
   "source": [
    "for n in range(2, 5):\n",
    "    tmp = set(t[:n] for t in targets6)\n",
    "    tmp2 = [s for s in curves if len(s) == n-1]\n",
    "    for s in tmp2:\n",
    "        for gen in curves[s]:\n",
    "            i = count_by_ideal(gen, n)\n",
    "            s1 = s + (i,)\n",
    "            if s1 in tmp:\n",
    "                curves[s1].append(gen)\n",
    "        del curves[s]\n",
    "    print([(s, len(curves[s])) for s in curves if len(s) == n])"
   ]
  },
  {
   "cell_type": "code",
   "execution_count": null,
   "metadata": {},
   "outputs": [],
   "source": []
  },
  {
   "cell_type": "code",
   "execution_count": null,
   "metadata": {},
   "outputs": [],
   "source": []
  },
  {
   "cell_type": "markdown",
   "metadata": {},
   "source": [
    "Close out this case."
   ]
  },
  {
   "cell_type": "code",
   "execution_count": 18,
   "metadata": {},
   "outputs": [],
   "source": [
    "I1 = P.ideal([x0,x1])\n",
    "I2 = P.ideal([y0,y1])\n",
    "CR = magma.CoxRing(P, [I1, I2], [[1,1,0,0],[0,0,1,1]], [])\n",
    "proj = CR.ToricVariety()"
   ]
  },
  {
   "cell_type": "code",
   "execution_count": 24,
   "metadata": {},
   "outputs": [
    {
     "name": "stdout",
     "output_type": "stream",
     "text": [
      "Number of curves found: 0\n",
      "Number of isomorphism classes found: 0\n",
      "Total time: 96 seconds\n"
     ]
    }
   ],
   "source": [
    "lst = closeout(curves, X=proj, genus=6)"
   ]
  },
  {
   "cell_type": "code",
   "execution_count": 25,
   "metadata": {},
   "outputs": [],
   "source": [
    "with open(\"ss_trigonalmaroni0.txt\", \"w\") as f:\n",
    "    f.write(str(lst))"
   ]
  },
  {
   "cell_type": "code",
   "execution_count": null,
   "metadata": {},
   "outputs": [],
   "source": []
  }
 ],
 "metadata": {
  "kernelspec": {
   "display_name": "SageMath 9.5",
   "language": "sage",
   "name": "sagemath"
  },
  "language_info": {
   "codemirror_mode": {
    "name": "ipython",
    "version": 3
   },
   "file_extension": ".py",
   "mimetype": "text/x-python",
   "name": "python",
   "nbconvert_exporter": "python",
   "pygments_lexer": "ipython3",
   "version": "3.10.2"
  }
 },
 "nbformat": 4,
 "nbformat_minor": 4
}
