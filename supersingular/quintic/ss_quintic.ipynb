{
 "cells": [
  {
   "cell_type": "code",
   "execution_count": 5,
   "metadata": {},
   "outputs": [],
   "source": [
    "load(\"../Shared/preamble.sage\")"
   ]
  },
  {
   "cell_type": "code",
   "execution_count": 2,
   "metadata": {},
   "outputs": [],
   "source": [
    "F = GF(2)\n",
    "P.<x0,x1,x2> = F[]"
   ]
  },
  {
   "cell_type": "code",
   "execution_count": 3,
   "metadata": {},
   "outputs": [
    {
     "data": {
      "text/plain": [
       "7"
      ]
     },
     "execution_count": 3,
     "metadata": {},
     "output_type": "execute_result"
    }
   ],
   "source": [
    "S = [vector(t) for t in ProjectiveSpace(F, 2).rational_points()]\n",
    "for v in S:\n",
    "    v.set_immutable()\n",
    "len(S)"
   ]
  },
  {
   "cell_type": "code",
   "execution_count": 4,
   "metadata": {},
   "outputs": [],
   "source": [
    "def apply_group_elem(g, x):\n",
    "    x1 = g*x\n",
    "    x1.set_immutable()\n",
    "    return x1"
   ]
  },
  {
   "cell_type": "code",
   "execution_count": 5,
   "metadata": {},
   "outputs": [],
   "source": [
    "def stabilizer(x):\n",
    "    return GL(3, 2).subgroup([g.matrix().transpose() for g in vec_stab(Matrix(x)).gens()])"
   ]
  },
  {
   "cell_type": "code",
   "execution_count": 6,
   "metadata": {},
   "outputs": [],
   "source": [
    "def optimized_rep(g):\n",
    "    return g.matrix()"
   ]
  },
  {
   "cell_type": "code",
   "execution_count": 7,
   "metadata": {},
   "outputs": [],
   "source": [
    "methods = {'apply_group_elem': apply_group_elem,\n",
    "           'stabilizer': stabilizer,\n",
    "           'optimized_rep': optimized_rep}"
   ]
  },
  {
   "cell_type": "code",
   "execution_count": 8,
   "metadata": {},
   "outputs": [],
   "source": [
    "G = GL(3, F)\n",
    "tree = build_orbit_tree(G, S, 9, methods, verbose=False)"
   ]
  },
  {
   "cell_type": "code",
   "execution_count": 9,
   "metadata": {},
   "outputs": [
    {
     "data": {
      "text/plain": [
       "21"
      ]
     },
     "execution_count": 9,
     "metadata": {},
     "output_type": "execute_result"
    }
   ],
   "source": [
    "monos5 = [prod(x) for x in itertools.combinations_with_replacement(P.gens(), 5)]\n",
    "len(monos5)"
   ]
  },
  {
   "cell_type": "code",
   "execution_count": 10,
   "metadata": {},
   "outputs": [],
   "source": [
    "coords5 = {x: vector(mu(*x) for mu in monos5) for x in S}"
   ]
  },
  {
   "cell_type": "code",
   "execution_count": 11,
   "metadata": {},
   "outputs": [],
   "source": [
    "def vec_to_gen(v):\n",
    "    return sum(v[i]*monos5[i] for i in range(len(monos5)))"
   ]
  },
  {
   "cell_type": "code",
   "execution_count": 12,
   "metadata": {},
   "outputs": [],
   "source": [
    "curves = defaultdict(list)\n",
    "perp = Matrix([coords5[x] for x in S])\n",
    "for s in [1,3,5,7,9]:\n",
    "    for vecs in green_nodes(tree, s):\n",
    "        target = vector(F, (0 if x in vecs else 1 for x in S))\n",
    "        for w in solve_right_iterator(perp, target):\n",
    "            curves[(s,)].append(vec_to_gen(w))"
   ]
  },
  {
   "cell_type": "code",
   "execution_count": 13,
   "metadata": {},
   "outputs": [
    {
     "data": {
      "text/plain": [
       "[((1,), 16384), ((3,), 32768), ((5,), 16384), ((7,), 16384)]"
      ]
     },
     "execution_count": 13,
     "metadata": {},
     "output_type": "execute_result"
    }
   ],
   "source": [
    "[(s, len(curves[s])) for s in curves]"
   ]
  },
  {
   "cell_type": "code",
   "execution_count": 14,
   "metadata": {},
   "outputs": [],
   "source": [
    "def count_by_ideal(gen, n):\n",
    "    J = P.ideal([gen] + [y^(2^n) + y for y in P.gens()])\n",
    "    return (J.vector_space_dimension() - 1) // (2^n-1)"
   ]
  },
  {
   "cell_type": "code",
   "execution_count": 15,
   "metadata": {},
   "outputs": [],
   "source": [
    "load(\"ss_pointcount.sage\")"
   ]
  },
  {
   "cell_type": "code",
   "execution_count": 16,
   "metadata": {},
   "outputs": [],
   "source": [
    "targets6 = [tuple(i[1][:6]) for i in pointcount.items()]"
   ]
  },
  {
   "cell_type": "code",
   "execution_count": 17,
   "metadata": {},
   "outputs": [
    {
     "name": "stdout",
     "output_type": "stream",
     "text": [
      "[((1, 9), 920), ((1, 1), 2184), ((1, 5), 5064), ((1, 13), 24), ((3, 5), 10104), ((3, 9), 5400), ((3, 13), 360), ((3, 17), 8), ((5, 9), 5064), ((5, 13), 920), ((5, 17), 24), ((5, 5), 2184), ((7, 13), 2520), ((7, 9), 4984)]\n",
      "[((1, 9, 25), 34), ((1, 9, 13), 198), ((1, 1, 1), 168), ((1, 1, 13), 228), ((1, 5, 13), 1038), ((1, 5, 1), 210), ((1, 5, 25), 24), ((1, 13, 13), 12), ((3, 5, 9), 2748), ((3, 5, 21), 396), ((3, 5, 33), 12), ((3, 9, 9), 1494), ((3, 9, 21), 198), ((3, 13, 9), 132), ((3, 17, 9), 3), ((5, 9, 17), 986), ((5, 9, 5), 290), ((5, 13, 5), 82), ((5, 17, 5), 6), ((5, 5, 17), 424), ((5, 5, 5), 68), ((7, 13, 13), 462), ((7, 9, 13), 1274), ((7, 9, 25), 42)]\n",
      "[((1, 9, 25, 33), 10), ((1, 9, 13, 17), 102), ((1, 9, 13, 33), 24), ((1, 1, 1, 1), 6), ((1, 1, 1, 17), 60), ((1, 1, 13, 17), 30), ((1, 5, 13, 9), 96), ((1, 5, 13, 25), 384), ((1, 5, 1, 9), 24), ((1, 5, 1, 41), 12), ((1, 5, 1, 25), 36), ((3, 5, 9, 17), 443), ((3, 5, 9, 33), 330), ((3, 5, 9, 65), 4), ((3, 5, 21, 17), 96), ((3, 5, 33, 17), 12), ((3, 9, 9, 25), 366), ((3, 9, 9, 9), 30), ((3, 9, 9, 41), 30), ((3, 9, 21, 25), 6), ((3, 13, 9, 17), 18), ((3, 13, 9, 33), 12), ((5, 9, 17, 33), 216), ((5, 9, 17, 17), 116), ((5, 9, 5, 17), 42), ((5, 9, 5, 33), 12), ((5, 13, 5, 25), 12), ((5, 17, 5, 17), 2), ((5, 5, 17, 9), 56), ((5, 5, 17, 25), 64), ((5, 5, 5, 25), 20), ((5, 5, 5, 9), 8), ((7, 9, 13, 25), 168)]\n"
     ]
    }
   ],
   "source": [
    "for n in range(2, 5):\n",
    "    tmp = set(t[:n] for t in targets6)\n",
    "    tmp2 = list(curves.keys())\n",
    "    for s in tmp2:\n",
    "        for gen in curves[s]:\n",
    "            i = count_by_ideal(gen, n)\n",
    "            s1 = s + (i,)\n",
    "            if s1 in tmp:\n",
    "                curves[s1].append(gen)\n",
    "        del curves[s]\n",
    "    print([(s, len(curves[s])) for s in curves])"
   ]
  },
  {
   "cell_type": "code",
   "execution_count": 18,
   "metadata": {},
   "outputs": [
    {
     "name": "stdout",
     "output_type": "stream",
     "text": [
      "Number of curves found: 0\n",
      "Number of isomorphism classes found: 0\n",
      "Total time: 11 minutes\n"
     ]
    }
   ],
   "source": [
    "proj = magma.ProjectiveSpace(P)\n",
    "fin = closeout(curves, X=proj,genus = 6)"
   ]
  },
  {
   "cell_type": "code",
   "execution_count": 19,
   "metadata": {},
   "outputs": [],
   "source": [
    "with open(\"ss_quitinc.txt\", \"w\") as f:\n",
    "    f.write(str(fin))"
   ]
  },
  {
   "cell_type": "code",
   "execution_count": null,
   "metadata": {},
   "outputs": [],
   "source": []
  }
 ],
 "metadata": {
  "kernelspec": {
   "display_name": "SageMath 9.5",
   "language": "sage",
   "name": "sagemath"
  },
  "language_info": {
   "codemirror_mode": {
    "name": "ipython",
    "version": 3
   },
   "file_extension": ".py",
   "mimetype": "text/x-python",
   "name": "python",
   "nbconvert_exporter": "python",
   "pygments_lexer": "ipython3",
   "version": "3.10.2"
  }
 },
 "nbformat": 4,
 "nbformat_minor": 4
}
