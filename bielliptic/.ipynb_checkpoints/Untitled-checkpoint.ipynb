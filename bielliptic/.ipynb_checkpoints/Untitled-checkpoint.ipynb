{
 "cells": [
  {
   "cell_type": "code",
   "execution_count": 1,
   "id": "e8b8d075",
   "metadata": {},
   "outputs": [],
   "source": [
    "load(\"../Shared/preamble.sage\")"
   ]
  },
  {
   "cell_type": "code",
   "execution_count": 2,
   "id": "440d9c4c",
   "metadata": {},
   "outputs": [],
   "source": [
    "targets6 = [tuple(i[1][:12]) for i in pointcount.items()]"
   ]
  },
  {
   "cell_type": "markdown",
   "id": "6d89741d",
   "metadata": {},
   "source": [
    "There are no supersingular bielliptic curves satisfying the bounds $$r \\geq r_1 + 3 + 5$$ $$ r \\leq 5$$ (see https://arxiv.org/pdf/1202.6308.pdf lemma 6.1) since the point counts for supersingular curves have all odd numbers."
   ]
  },
  {
   "cell_type": "code",
   "execution_count": 3,
   "id": "5aa1ef38",
   "metadata": {},
   "outputs": [],
   "source": [
    "assert all([tup[i] % 2 == 1 for tup in targets6 for i in range(12)]) == True"
   ]
  },
  {
   "cell_type": "code",
   "execution_count": null,
   "id": "8261bf6f",
   "metadata": {},
   "outputs": [],
   "source": []
  }
 ],
 "metadata": {
  "kernelspec": {
   "display_name": "SageMath 9.5",
   "language": "sage",
   "name": "sagemath"
  },
  "language_info": {
   "codemirror_mode": {
    "name": "ipython",
    "version": 3
   },
   "file_extension": ".py",
   "mimetype": "text/x-python",
   "name": "python",
   "nbconvert_exporter": "python",
   "pygments_lexer": "ipython3",
   "version": "3.10.2"
  }
 },
 "nbformat": 4,
 "nbformat_minor": 5
}
